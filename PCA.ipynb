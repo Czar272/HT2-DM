{
 "cells": [
  {
   "cell_type": "markdown",
   "metadata": {},
   "source": [
    "# Este es el segundo notebook\n",
    "regresar al de clustering en caso de no haberlo visto aún"
   ]
  },
  {
   "cell_type": "markdown",
   "metadata": {},
   "source": [
    "# 3. Analisis de componentes principales."
   ]
  },
  {
   "cell_type": "markdown",
   "metadata": {},
   "source": [
    "- **3.1** *Estudie si es posible hacer transformaciones en las variables categóricas para incluirlas en el PCA, ¿valdrá la pena?*"
   ]
  },
  {
   "cell_type": "markdown",
   "metadata": {},
   "source": [
    "   Las columnas categóricas en esta base de datos son: `genres`, `productionCompany`, `productionCompanyCountry`, `producitonCountry`, `originalLanguage`, `director` y `actors`. \n",
    "\n",
    "   Entre las transformaciones que pueden haber para las variables categorias esta la `One-Hot Encoding` que es practicamente convertirlas en binarias, sin embargo ninguna de estas variables categoricas se reducen a dos opciones, por lo que que esta transformacion no nos es util.\n",
    "\n",
    "   Tambien tenemos la `Codificacion de frecuencia`, que se refiere a reemplazar cada categoria con una frecuencia de aparicion, sin embargo tampoco nos es relevante y no vale la pena realizar esta transformacion.\n",
    "\n",
    "   En conclusion, no vale la pena hacer transformaciones para las variables categoricas, por mas que si sea posible hacerlas."
   ]
  },
  {
   "cell_type": "markdown",
   "metadata": {},
   "source": [
    "- **3.2** *Estudie si es conveniente hacer un Análisis de Componentes Principales. Recuerde que\n",
    "puede usar el índice KMO y el test de esfericidad de Bartlett.*"
   ]
  },
  {
   "cell_type": "code",
   "execution_count": null,
   "metadata": {},
   "outputs": [],
   "source": [
    "import pandas as pd\n",
    "import numpy as np\n",
    "from sklearn.decomposition import PCA\n",
    "from sklearn.preprocessing import StandardScaler\n",
    "from factor_analyzer.factor_analyzer import calculate_kmo, FactorAnalyzer\n",
    "from scipy.stats import bartlett\n",
    "import matplotlib.pyplot as plt"
   ]
  },
  {
   "cell_type": "code",
   "execution_count": null,
   "metadata": {},
   "outputs": [],
   "source": [
    "df = pd.read_csv('./movies.csv', encoding=\"ISO-8859-1\")\n",
    "\n",
    "\n",
    "numeric_columns = df.select_dtypes(include=[np.number]).columns.tolist()\n",
    "print(numeric_columns)"
   ]
  },
  {
   "cell_type": "code",
   "execution_count": 13,
   "metadata": {},
   "outputs": [
    {
     "name": "stdout",
     "output_type": "stream",
     "text": [
      "   id    budget      revenue  runtime  popularity  voteAvg  voteCount  \\\n",
      "0   5   4000000    4257354.0       98      20.880      5.7       2077   \n",
      "1   6  21000000   12136938.0      110       9.596      6.5        223   \n",
      "2  11  11000000  775398007.0      121     100.003      8.2      16598   \n",
      "3  12  94000000  940335536.0      100     134.435      7.8      15928   \n",
      "4  13  55000000  677387716.0      142      58.751      8.5      22045   \n",
      "\n",
      "   genresAmount  productionCoAmount  productionCountriesAmount  actorsAmount  \n",
      "0             2                   2                          1            25  \n",
      "1             3                   3                          2            15  \n",
      "2             3                   2                          1           105  \n",
      "3             2                   1                          1            24  \n",
      "4             3                   2                          1            76  \n"
     ]
    }
   ],
   "source": [
    "numDF = df[numeric_columns]\n",
    "print(numDF.head())"
   ]
  },
  {
   "cell_type": "code",
   "execution_count": 11,
   "metadata": {},
   "outputs": [
    {
     "name": "stdout",
     "output_type": "stream",
     "text": [
      "   id    budget      revenue  runtime  popularity  voteAvg  voteCount  \\\n",
      "0   5   4000000    4257354.0       98      20.880      5.7       2077   \n",
      "1   6  21000000   12136938.0      110       9.596      6.5        223   \n",
      "2  11  11000000  775398007.0      121     100.003      8.2      16598   \n",
      "3  12  94000000  940335536.0      100     134.435      7.8      15928   \n",
      "4  13  55000000  677387716.0      142      58.751      8.5      22045   \n",
      "\n",
      "   genresAmount  productionCoAmount  productionCountriesAmount  actorsAmount  \n",
      "0             2                   2                          1            25  \n",
      "1             3                   3                          2            15  \n",
      "2             3                   2                          1           105  \n",
      "3             2                   1                          1            24  \n",
      "4             3                   2                          1            76  \n"
     ]
    },
    {
     "name": "stderr",
     "output_type": "stream",
     "text": [
      "C:\\Users\\pablo\\AppData\\Local\\Temp\\ipykernel_9528\\3068157745.py:1: FutureWarning: DataFrame.applymap has been deprecated. Use DataFrame.map instead.\n",
      "  numDF = numDF.applymap(lambda x: pd.to_numeric(x, errors='coerce')).fillna(0)\n"
     ]
    }
   ],
   "source": [
    "numDF = numDF.applymap(lambda x: pd.to_numeric(x, errors='coerce')).fillna(0)\n",
    "print(numDF.head())\n"
   ]
  },
  {
   "cell_type": "code",
   "execution_count": 16,
   "metadata": {},
   "outputs": [],
   "source": [
    "scaler = StandardScaler()\n",
    "numDF_scaled = scaler.fit_transform(numDF)"
   ]
  },
  {
   "cell_type": "code",
   "execution_count": null,
   "metadata": {},
   "outputs": [
    {
     "name": "stdout",
     "output_type": "stream",
     "text": [
      "Indice KMO: 0.713\n",
      "Prueba de Bartlett - xi2: 2324724.780, p-value: 0.00000\n",
      "\n",
      "Conclusión: ✅ PCA es una buena opción, aunque no óptima.\n"
     ]
    }
   ],
   "source": [
    "# KMO's Test\n",
    "kmo, model = calculate_kmo(numDF)\n",
    "\n",
    "# Bartlett's Test\n",
    "xi2, p = bartlett(*numDF.T.values)\n",
    "\n",
    "print(f'Indice KMO: {model:.3f}')\n",
    "print(f\"Prueba de Bartlett - xi2: {xi2:.3f}, p-value: {p:.5f}\")\n",
    "\n",
    "if model > 0.8 and p < 0.05:\n",
    "    conclusion = \"PCA es altamente recomendable, los datos tienen una fuerte correlación.\"\n",
    "elif 0.7 <= model <= 0.8 and p < 0.05:\n",
    "    conclusion = \"PCA es una buena opción, aunque no óptima.\"\n",
    "elif 0.6 <= model < 0.7 and p < 0.05:\n",
    "    conclusion = \"PCA puede aplicarse, pero la relación entre variables no es muy fuerte.\"\n",
    "elif model < 0.6 or p > 0.05:\n",
    "    conclusion = \"PCA no es recomendable, las variables no están lo suficientemente correlacionadas.\"\n",
    "\n",
    "print(f\"\\nConclusión:\", conclusion)"
   ]
  },
  {
   "cell_type": "markdown",
   "metadata": {},
   "source": [
    "- **3.3** Haga un análisis de componentes principales con las variables numéricas, discuta los\n",
    "resultados e interprete los componentes."
   ]
  },
  {
   "cell_type": "code",
   "execution_count": 24,
   "metadata": {},
   "outputs": [
    {
     "data": {
      "image/png": "[encoded data removed]",
      "text/plain": [
       "<Figure size 800x500 with 1 Axes>"
      ]
     },
     "metadata": {},
     "output_type": "display_data"
    }
   ],
   "source": [
    "pca = PCA(n_components=5)\n",
    "comp = pca.fit(numDF_scaled)\n",
    "\n",
    "plt.figure(figsize=(8, 5))\n",
    "plt.plot(range(1, 6), np.cumsum(pca.explained_variance_ratio_), marker=\"o\", linestyle=\"--\")\n",
    "plt.xlabel(\"Número de Componentes\")\n",
    "plt.ylabel(\"Varianza Explicada Acumulada\")\n",
    "plt.title(\"Varianza Explicada por PCA\")\n",
    "plt.grid()\n",
    "plt.show()"
   ]
  },
  {
   "cell_type": "markdown",
   "metadata": {},
   "source": [
    "El gráfico muestra que la varianza explicada se distribuye de manera bastante uniforme entre los cinco primeros componentes, sin un \"codo\" claro que nos indique un número óptimo de componentes. Esto significa que no hay un pequeño conjunto de componentes que capture la mayor parte de la información del dataset, lo que sugiere que reducir dimensiones con PCA podría no ser tan efectivo en este caso. Aun así, los primeros tres o cuatro componentes explican una parte considerable de la variabilidad en los datos, por lo que podrían usarse para simplificar la información sin perder demasiado detalle."
   ]
  },
  {
   "cell_type": "code",
   "execution_count": 25,
   "metadata": {},
   "outputs": [
    {
     "name": "stdout",
     "output_type": "stream",
     "text": [
      "Matriz de Componentes Principales:\n",
      "           id    budget   revenue   runtime  popularity   voteAvg  voteCount  \\\n",
      "PC1 -0.225102  0.501921  0.519759  0.285925    0.119149  0.172720   0.508017   \n",
      "PC2  0.538927  0.102307  0.197044 -0.298472    0.557324  0.017949   0.112183   \n",
      "PC3  0.327944 -0.132510 -0.092215  0.382328    0.240977  0.394636  -0.006707   \n",
      "PC4 -0.034531 -0.228901 -0.118449  0.183264   -0.020290  0.717354   0.017973   \n",
      "PC5  0.085539 -0.043718 -0.161717 -0.067952    0.367096  0.079233  -0.175792   \n",
      "\n",
      "     genresAmount  productionCoAmount  productionCountriesAmount  actorsAmount  \n",
      "PC1      0.160785            0.115109                  -0.041302     -0.050841  \n",
      "PC2     -0.142039           -0.277156                  -0.020352      0.387630  \n",
      "PC3     -0.327441            0.363503                   0.434436     -0.279779  \n",
      "PC4      0.067058           -0.379278                  -0.484050      0.028472  \n",
      "PC5      0.741038            0.467387                  -0.137260      0.040415  \n"
     ]
    }
   ],
   "source": [
    "pca_df = pd.DataFrame(pca.components_, columns=numDF.columns, index=[f\"PC{i+1}\" for i in range(5)])\n",
    "print(\"Matriz de Componentes Principales:\")\n",
    "print(pca_df)"
   ]
  },
  {
   "cell_type": "markdown",
   "metadata": {},
   "source": [
    "Al analizar la matriz de componentes principales, vemos que cada componente agrupa diferentes variables con pesos importantes. El primer componente está fuertemente influenciado por el presupuesto, los ingresos y la cantidad de votos, lo que lo relaciona con el éxito financiero de las películas. El segundo componente refleja más la popularidad en la base de datos. Los siguientes componentes capturan otros aspectos como la duración, la cantidad de países involucrados en la producción y la calidad percibida por los usuarios. Esto sugiere que, aunque PCA no reduce la información de manera muy compacta, sí nos permite identificar distintos factores clave que influyen en las películas.\n",
    "\n",
    "\n",
    "\n",
    "\n"
   ]
  },
  {
   "cell_type": "markdown",
   "metadata": {},
   "source": [
    "# Ir al notebook de Apriori"
   ]
  }
 ],
 "metadata": {
  "kernelspec": {
   "display_name": "Python 3",
   "language": "python",
   "name": "python3"
  },
  "language_info": {
   "codemirror_mode": {
    "name": "ipython",
    "version": 3
   },
   "file_extension": ".py",
   "mimetype": "text/x-python",
   "name": "python",
   "nbconvert_exporter": "python",
   "pygments_lexer": "ipython3",
   "version": "3.10.11"
  }
 },
 "nbformat": 4,
 "nbformat_minor": 2
}
